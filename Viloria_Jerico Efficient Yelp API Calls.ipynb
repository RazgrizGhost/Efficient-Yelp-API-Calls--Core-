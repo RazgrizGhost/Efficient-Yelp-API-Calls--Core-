{
 "cells": [
  {
   "cell_type": "markdown",
   "id": "4eb03012",
   "metadata": {},
   "source": [
    "For this assignment, you will be working with the Yelp API.\n",
    "\n",
    "As before, you will use the Yelp API to search your favorite city for a cuisine type of your choice.\n",
    "\n",
    "Extract all of the results from your search and compile them into one dataframe using a for loop as shown in the lesson \"Code for Efficient API Extraction\"\n",
    "\n",
    "Save your notebook, commit the change to your repository and submit the repository URL for this assignment."
   ]
  },
  {
   "cell_type": "code",
   "execution_count": 22,
   "id": "cc4d3760",
   "metadata": {},
   "outputs": [],
   "source": [
    "# Standard Imports\n",
    "import numpy as np\n",
    "import pandas as pd\n",
    "import matplotlib.pyplot as plt\n",
    "import seaborn as sns\n",
    "import time, math\n",
    "# Additional Imports\n",
    "import os, json, math, time\n",
    "from yelpapi import YelpAPI\n",
    "from tqdm.notebook import tqdm_notebook"
   ]
  },
  {
   "cell_type": "code",
   "execution_count": 23,
   "id": "ff7b9092",
   "metadata": {},
   "outputs": [],
   "source": [
    "# Load API Credentials\n",
    "with open('/Users/spart/.secret/yelp_api.json') as f:   #use your path here!\n",
    "    login = json.load(f)\n",
    "# Instantiate YelpAPI Variable\n",
    "yelp_api = YelpAPI(login['api-key'], timeout_s = 5.0)"
   ]
  },
  {
   "cell_type": "code",
   "execution_count": 29,
   "id": "625f49d0",
   "metadata": {},
   "outputs": [],
   "source": [
    "LOCATION = 'Colorado Springs, CO'\n",
    "TERM = 'Chicken Wings'"
   ]
  },
  {
   "cell_type": "code",
   "execution_count": 30,
   "id": "2c29e424",
   "metadata": {},
   "outputs": [
    {
     "data": {
      "text/plain": [
       "'Data/Results_COS_ChickenWings.json'"
      ]
     },
     "execution_count": 30,
     "metadata": {},
     "output_type": "execute_result"
    }
   ],
   "source": [
    "JSON_FILE = \"Data/Results_COS_ChickenWings.json\"\n",
    "JSON_FILE"
   ]
  },
  {
   "cell_type": "code",
   "execution_count": 31,
   "id": "35a190b6",
   "metadata": {},
   "outputs": [
    {
     "name": "stdout",
     "output_type": "stream",
     "text": [
      "[i] Data/Results_COS_ChickenWings.json not found. Saving empty list to file.\n"
     ]
    }
   ],
   "source": [
    "file_exists = os.path.isfile(JSON_FILE)\n",
    "\n",
    "if file_exists == False:\n",
    "    folder = os.path.dirname(JSON_FILE)\n",
    "    if len(folder)>0:\n",
    "        os.makedirs(folder,exist_ok=True)\n",
    "        \n",
    "    print(f'[i] {JSON_FILE} not found. Saving empty list to file.')\n",
    "    \n",
    "    with open(JSON_FILE,'w') as f:\n",
    "        json.dump([],f) \n",
    "        \n",
    "else:\n",
    "    print(f\"[i] {JSON_FILE} already exists.\")"
   ]
  },
  {
   "cell_type": "code",
   "execution_count": 32,
   "id": "15115c7f",
   "metadata": {},
   "outputs": [
    {
     "name": "stdout",
     "output_type": "stream",
     "text": [
      "- 0 previous results found.\n"
     ]
    }
   ],
   "source": [
    "# Checking if they are results\n",
    "with open(JSON_FILE,'r') as f:\n",
    "    previous_results = json.load(f)\n",
    "    \n",
    "n_results = len(previous_results)\n",
    "print(f'- {n_results} previous results found.')"
   ]
  },
  {
   "cell_type": "code",
   "execution_count": 33,
   "id": "b8962075",
   "metadata": {},
   "outputs": [
    {
     "data": {
      "text/plain": [
       "dict_keys(['businesses', 'total', 'region'])"
      ]
     },
     "execution_count": 33,
     "metadata": {},
     "output_type": "execute_result"
    }
   ],
   "source": [
    "results = yelp_api.search_query(location = LOCATION, term = TERM, offset = n_results)\n",
    "\n",
    "results.keys()"
   ]
  },
  {
   "cell_type": "code",
   "execution_count": 34,
   "id": "497b5948",
   "metadata": {},
   "outputs": [
    {
     "data": {
      "text/plain": [
       "304"
      ]
     },
     "execution_count": 34,
     "metadata": {},
     "output_type": "execute_result"
    }
   ],
   "source": [
    "total_results = results['total']\n",
    "total_results"
   ]
  },
  {
   "cell_type": "code",
   "execution_count": 35,
   "id": "b578285d",
   "metadata": {},
   "outputs": [
    {
     "data": {
      "text/plain": [
       "20"
      ]
     },
     "execution_count": 35,
     "metadata": {},
     "output_type": "execute_result"
    }
   ],
   "source": [
    "results_per_page = len(results['businesses'])\n",
    "results_per_page"
   ]
  },
  {
   "cell_type": "code",
   "execution_count": 36,
   "id": "ad7a689d",
   "metadata": {},
   "outputs": [
    {
     "data": {
      "text/plain": [
       "16"
      ]
     },
     "execution_count": 36,
     "metadata": {},
     "output_type": "execute_result"
    }
   ],
   "source": [
    "n_pages = math.ceil((results['total'] - n_results) / results_per_page)\n",
    "n_pages"
   ]
  },
  {
   "cell_type": "code",
   "execution_count": 37,
   "id": "08b6e163",
   "metadata": {},
   "outputs": [
    {
     "data": {
      "application/vnd.jupyter.widget-view+json": {
       "model_id": "22da5f0343f14e4996b6c565bf1d0915",
       "version_major": 2,
       "version_minor": 0
      },
      "text/plain": [
       "  0%|          | 0/16 [00:00<?, ?it/s]"
      ]
     },
     "metadata": {},
     "output_type": "display_data"
    }
   ],
   "source": [
    "for i in tqdm_notebook( range(1,n_pages+1)):\n",
    "    \n",
    "    with open(JSON_FILE, 'r') as f:\n",
    "        previous_results = json.load(f)\n",
    "\n",
    "    n_results = len(previous_results)\n",
    "   \n",
    "    results = yelp_api.search_query(location = LOCATION,\n",
    "                                    term = TERM, \n",
    "                                    offset = n_results)\n",
    "    \n",
    "    previous_results.extend(results['businesses'])\n",
    "    \n",
    "    with open(JSON_FILE,'w') as f:\n",
    "        json.dump(previous_results,f)\n",
    "    \n",
    "    time.sleep(.2)"
   ]
  },
  {
   "cell_type": "code",
   "execution_count": 38,
   "id": "48d88076",
   "metadata": {
    "scrolled": true
   },
   "outputs": [
    {
     "data": {
      "text/html": [
       "<div>\n",
       "<style scoped>\n",
       "    .dataframe tbody tr th:only-of-type {\n",
       "        vertical-align: middle;\n",
       "    }\n",
       "\n",
       "    .dataframe tbody tr th {\n",
       "        vertical-align: top;\n",
       "    }\n",
       "\n",
       "    .dataframe thead th {\n",
       "        text-align: right;\n",
       "    }\n",
       "</style>\n",
       "<table border=\"1\" class=\"dataframe\">\n",
       "  <thead>\n",
       "    <tr style=\"text-align: right;\">\n",
       "      <th></th>\n",
       "      <th>id</th>\n",
       "      <th>alias</th>\n",
       "      <th>name</th>\n",
       "      <th>image_url</th>\n",
       "      <th>is_closed</th>\n",
       "      <th>url</th>\n",
       "      <th>review_count</th>\n",
       "      <th>categories</th>\n",
       "      <th>rating</th>\n",
       "      <th>coordinates</th>\n",
       "      <th>transactions</th>\n",
       "      <th>price</th>\n",
       "      <th>location</th>\n",
       "      <th>phone</th>\n",
       "      <th>display_phone</th>\n",
       "      <th>distance</th>\n",
       "    </tr>\n",
       "  </thead>\n",
       "  <tbody>\n",
       "    <tr>\n",
       "      <th>0</th>\n",
       "      <td>ytBUcB4xdnuGM5nDJir74Q</td>\n",
       "      <td>golden-flame-hot-wings-colorado-springs-2</td>\n",
       "      <td>Golden Flame Hot Wings</td>\n",
       "      <td>https://s3-media1.fl.yelpcdn.com/bphoto/o9WbE2...</td>\n",
       "      <td>False</td>\n",
       "      <td>https://www.yelp.com/biz/golden-flame-hot-wing...</td>\n",
       "      <td>196</td>\n",
       "      <td>[{'alias': 'chicken_wings', 'title': 'Chicken ...</td>\n",
       "      <td>4.0</td>\n",
       "      <td>{'latitude': 38.9097629, 'longitude': -104.717...</td>\n",
       "      <td>[delivery, pickup]</td>\n",
       "      <td>$$</td>\n",
       "      <td>{'address1': '5865 Stetson Hills Blvd', 'addre...</td>\n",
       "      <td>+17195709464</td>\n",
       "      <td>(719) 570-9464</td>\n",
       "      <td>5176.629893</td>\n",
       "    </tr>\n",
       "    <tr>\n",
       "      <th>1</th>\n",
       "      <td>Cbsnscv1pz1pPxLMda9AIA</td>\n",
       "      <td>angry-chicken-colorado-springs-2</td>\n",
       "      <td>Angry Chicken</td>\n",
       "      <td>https://s3-media1.fl.yelpcdn.com/bphoto/uJGERf...</td>\n",
       "      <td>False</td>\n",
       "      <td>https://www.yelp.com/biz/angry-chicken-colorad...</td>\n",
       "      <td>78</td>\n",
       "      <td>[{'alias': 'korean', 'title': 'Korean'}, {'ali...</td>\n",
       "      <td>4.5</td>\n",
       "      <td>{'latitude': 38.806996, 'longitude': -104.821783}</td>\n",
       "      <td>[delivery, pickup]</td>\n",
       "      <td>$$</td>\n",
       "      <td>{'address1': '1869 S Nevada Ave', 'address2': ...</td>\n",
       "      <td>+17196949730</td>\n",
       "      <td>(719) 694-9730</td>\n",
       "      <td>9279.301392</td>\n",
       "    </tr>\n",
       "    <tr>\n",
       "      <th>2</th>\n",
       "      <td>n3elN1ApEXz5raVO9MQj7w</td>\n",
       "      <td>deluxe-wingz-colorado-springs-2</td>\n",
       "      <td>Deluxe Wingz</td>\n",
       "      <td>https://s3-media1.fl.yelpcdn.com/bphoto/LTWnSO...</td>\n",
       "      <td>False</td>\n",
       "      <td>https://www.yelp.com/biz/deluxe-wingz-colorado...</td>\n",
       "      <td>62</td>\n",
       "      <td>[{'alias': 'chicken_wings', 'title': 'Chicken ...</td>\n",
       "      <td>4.0</td>\n",
       "      <td>{'latitude': 38.7957911001335, 'longitude': -1...</td>\n",
       "      <td>[delivery, pickup]</td>\n",
       "      <td>NaN</td>\n",
       "      <td>{'address1': '3869 Astrozon Blvd', 'address2':...</td>\n",
       "      <td>+17193921158</td>\n",
       "      <td>(719) 392-1158</td>\n",
       "      <td>8787.600799</td>\n",
       "    </tr>\n",
       "    <tr>\n",
       "      <th>3</th>\n",
       "      <td>5kC28QlV8SbbFCDSdchY3A</td>\n",
       "      <td>wild-bills-buffalo-wings-colorado-springs-6</td>\n",
       "      <td>Wild Bill's Buffalo Wings</td>\n",
       "      <td>https://s3-media1.fl.yelpcdn.com/bphoto/ZpE2_9...</td>\n",
       "      <td>False</td>\n",
       "      <td>https://www.yelp.com/biz/wild-bills-buffalo-wi...</td>\n",
       "      <td>34</td>\n",
       "      <td>[{'alias': 'chicken_wings', 'title': 'Chicken ...</td>\n",
       "      <td>4.0</td>\n",
       "      <td>{'latitude': 38.79650111877393, 'longitude': -...</td>\n",
       "      <td>[delivery]</td>\n",
       "      <td>NaN</td>\n",
       "      <td>{'address1': '3768 Astrozon Blvd', 'address2':...</td>\n",
       "      <td>+17193445062</td>\n",
       "      <td>(719) 344-5062</td>\n",
       "      <td>8710.976657</td>\n",
       "    </tr>\n",
       "    <tr>\n",
       "      <th>4</th>\n",
       "      <td>lGnCj90vz7xGUlvK_q6S8Q</td>\n",
       "      <td>the-dirty-byrd-colorado-springs-2</td>\n",
       "      <td>The Dirty Byrd</td>\n",
       "      <td>https://s3-media1.fl.yelpcdn.com/bphoto/e7aR3F...</td>\n",
       "      <td>False</td>\n",
       "      <td>https://www.yelp.com/biz/the-dirty-byrd-colora...</td>\n",
       "      <td>29</td>\n",
       "      <td>[{'alias': 'chicken_wings', 'title': 'Chicken ...</td>\n",
       "      <td>3.5</td>\n",
       "      <td>{'latitude': 38.83554, 'longitude': -104.82407}</td>\n",
       "      <td>[delivery, pickup]</td>\n",
       "      <td>NaN</td>\n",
       "      <td>{'address1': '24 E Kiowa St', 'address2': None...</td>\n",
       "      <td></td>\n",
       "      <td></td>\n",
       "      <td>7247.559326</td>\n",
       "    </tr>\n",
       "  </tbody>\n",
       "</table>\n",
       "</div>"
      ],
      "text/plain": [
       "                       id                                        alias  \\\n",
       "0  ytBUcB4xdnuGM5nDJir74Q    golden-flame-hot-wings-colorado-springs-2   \n",
       "1  Cbsnscv1pz1pPxLMda9AIA             angry-chicken-colorado-springs-2   \n",
       "2  n3elN1ApEXz5raVO9MQj7w              deluxe-wingz-colorado-springs-2   \n",
       "3  5kC28QlV8SbbFCDSdchY3A  wild-bills-buffalo-wings-colorado-springs-6   \n",
       "4  lGnCj90vz7xGUlvK_q6S8Q            the-dirty-byrd-colorado-springs-2   \n",
       "\n",
       "                        name  \\\n",
       "0     Golden Flame Hot Wings   \n",
       "1              Angry Chicken   \n",
       "2               Deluxe Wingz   \n",
       "3  Wild Bill's Buffalo Wings   \n",
       "4             The Dirty Byrd   \n",
       "\n",
       "                                           image_url  is_closed  \\\n",
       "0  https://s3-media1.fl.yelpcdn.com/bphoto/o9WbE2...      False   \n",
       "1  https://s3-media1.fl.yelpcdn.com/bphoto/uJGERf...      False   \n",
       "2  https://s3-media1.fl.yelpcdn.com/bphoto/LTWnSO...      False   \n",
       "3  https://s3-media1.fl.yelpcdn.com/bphoto/ZpE2_9...      False   \n",
       "4  https://s3-media1.fl.yelpcdn.com/bphoto/e7aR3F...      False   \n",
       "\n",
       "                                                 url  review_count  \\\n",
       "0  https://www.yelp.com/biz/golden-flame-hot-wing...           196   \n",
       "1  https://www.yelp.com/biz/angry-chicken-colorad...            78   \n",
       "2  https://www.yelp.com/biz/deluxe-wingz-colorado...            62   \n",
       "3  https://www.yelp.com/biz/wild-bills-buffalo-wi...            34   \n",
       "4  https://www.yelp.com/biz/the-dirty-byrd-colora...            29   \n",
       "\n",
       "                                          categories  rating  \\\n",
       "0  [{'alias': 'chicken_wings', 'title': 'Chicken ...     4.0   \n",
       "1  [{'alias': 'korean', 'title': 'Korean'}, {'ali...     4.5   \n",
       "2  [{'alias': 'chicken_wings', 'title': 'Chicken ...     4.0   \n",
       "3  [{'alias': 'chicken_wings', 'title': 'Chicken ...     4.0   \n",
       "4  [{'alias': 'chicken_wings', 'title': 'Chicken ...     3.5   \n",
       "\n",
       "                                         coordinates        transactions  \\\n",
       "0  {'latitude': 38.9097629, 'longitude': -104.717...  [delivery, pickup]   \n",
       "1  {'latitude': 38.806996, 'longitude': -104.821783}  [delivery, pickup]   \n",
       "2  {'latitude': 38.7957911001335, 'longitude': -1...  [delivery, pickup]   \n",
       "3  {'latitude': 38.79650111877393, 'longitude': -...          [delivery]   \n",
       "4    {'latitude': 38.83554, 'longitude': -104.82407}  [delivery, pickup]   \n",
       "\n",
       "  price                                           location         phone  \\\n",
       "0    $$  {'address1': '5865 Stetson Hills Blvd', 'addre...  +17195709464   \n",
       "1    $$  {'address1': '1869 S Nevada Ave', 'address2': ...  +17196949730   \n",
       "2   NaN  {'address1': '3869 Astrozon Blvd', 'address2':...  +17193921158   \n",
       "3   NaN  {'address1': '3768 Astrozon Blvd', 'address2':...  +17193445062   \n",
       "4   NaN  {'address1': '24 E Kiowa St', 'address2': None...                 \n",
       "\n",
       "    display_phone     distance  \n",
       "0  (719) 570-9464  5176.629893  \n",
       "1  (719) 694-9730  9279.301392  \n",
       "2  (719) 392-1158  8787.600799  \n",
       "3  (719) 344-5062  8710.976657  \n",
       "4                  7247.559326  "
      ]
     },
     "metadata": {},
     "output_type": "display_data"
    },
    {
     "data": {
      "text/html": [
       "<div>\n",
       "<style scoped>\n",
       "    .dataframe tbody tr th:only-of-type {\n",
       "        vertical-align: middle;\n",
       "    }\n",
       "\n",
       "    .dataframe tbody tr th {\n",
       "        vertical-align: top;\n",
       "    }\n",
       "\n",
       "    .dataframe thead th {\n",
       "        text-align: right;\n",
       "    }\n",
       "</style>\n",
       "<table border=\"1\" class=\"dataframe\">\n",
       "  <thead>\n",
       "    <tr style=\"text-align: right;\">\n",
       "      <th></th>\n",
       "      <th>id</th>\n",
       "      <th>alias</th>\n",
       "      <th>name</th>\n",
       "      <th>image_url</th>\n",
       "      <th>is_closed</th>\n",
       "      <th>url</th>\n",
       "      <th>review_count</th>\n",
       "      <th>categories</th>\n",
       "      <th>rating</th>\n",
       "      <th>coordinates</th>\n",
       "      <th>transactions</th>\n",
       "      <th>price</th>\n",
       "      <th>location</th>\n",
       "      <th>phone</th>\n",
       "      <th>display_phone</th>\n",
       "      <th>distance</th>\n",
       "    </tr>\n",
       "  </thead>\n",
       "  <tbody>\n",
       "    <tr>\n",
       "      <th>299</th>\n",
       "      <td>BAL4xOaBOtsoDDTAS-FWNg</td>\n",
       "      <td>lanna-thai-colorado-springs</td>\n",
       "      <td>Lanna Thai</td>\n",
       "      <td>https://s3-media4.fl.yelpcdn.com/bphoto/8d4NgP...</td>\n",
       "      <td>False</td>\n",
       "      <td>https://www.yelp.com/biz/lanna-thai-colorado-s...</td>\n",
       "      <td>172</td>\n",
       "      <td>[{'alias': 'thai', 'title': 'Thai'}, {'alias':...</td>\n",
       "      <td>3.5</td>\n",
       "      <td>{'latitude': 38.9594841003418, 'longitude': -1...</td>\n",
       "      <td>[delivery, pickup]</td>\n",
       "      <td>$$</td>\n",
       "      <td>{'address1': '8810 N Union Blvd', 'address2': ...</td>\n",
       "      <td>+17192820474</td>\n",
       "      <td>(719) 282-0474</td>\n",
       "      <td>9447.346016</td>\n",
       "    </tr>\n",
       "    <tr>\n",
       "      <th>300</th>\n",
       "      <td>ubDnfqz9VgGV7b6YDrG10A</td>\n",
       "      <td>china-cottage-fountain</td>\n",
       "      <td>China Cottage</td>\n",
       "      <td>https://s3-media2.fl.yelpcdn.com/bphoto/QwlEmq...</td>\n",
       "      <td>False</td>\n",
       "      <td>https://www.yelp.com/biz/china-cottage-fountai...</td>\n",
       "      <td>48</td>\n",
       "      <td>[{'alias': 'chinese', 'title': 'Chinese'}]</td>\n",
       "      <td>3.0</td>\n",
       "      <td>{'latitude': 38.7326, 'longitude': -104.727752}</td>\n",
       "      <td>[delivery]</td>\n",
       "      <td>$$</td>\n",
       "      <td>{'address1': '7040 S US Highway 85-87', 'addre...</td>\n",
       "      <td>+17193900377</td>\n",
       "      <td>(719) 390-0377</td>\n",
       "      <td>16020.888223</td>\n",
       "    </tr>\n",
       "    <tr>\n",
       "      <th>301</th>\n",
       "      <td>-j-rDUUnlC5fu7M-1cs9AQ</td>\n",
       "      <td>marcos-pizza-briargate-colorado-springs-3</td>\n",
       "      <td>Marco's Pizza - Briargate</td>\n",
       "      <td>https://s3-media4.fl.yelpcdn.com/bphoto/T9PLLR...</td>\n",
       "      <td>False</td>\n",
       "      <td>https://www.yelp.com/biz/marcos-pizza-briargat...</td>\n",
       "      <td>75</td>\n",
       "      <td>[{'alias': 'pizza', 'title': 'Pizza'}]</td>\n",
       "      <td>3.5</td>\n",
       "      <td>{'latitude': 38.9675701, 'longitude': -104.78347}</td>\n",
       "      <td>[delivery]</td>\n",
       "      <td>$</td>\n",
       "      <td>{'address1': '9420 Briar Village Point', 'addr...</td>\n",
       "      <td>+17194343773</td>\n",
       "      <td>(719) 434-3773</td>\n",
       "      <td>10557.675775</td>\n",
       "    </tr>\n",
       "    <tr>\n",
       "      <th>302</th>\n",
       "      <td>g8jw7cDnEzOjFfx74qngyw</td>\n",
       "      <td>new-panda-colorado-springs</td>\n",
       "      <td>New Panda</td>\n",
       "      <td>https://s3-media1.fl.yelpcdn.com/bphoto/S5IKhi...</td>\n",
       "      <td>False</td>\n",
       "      <td>https://www.yelp.com/biz/new-panda-colorado-sp...</td>\n",
       "      <td>101</td>\n",
       "      <td>[{'alias': 'chinese', 'title': 'Chinese'}]</td>\n",
       "      <td>2.5</td>\n",
       "      <td>{'latitude': 38.7883579, 'longitude': -104.820...</td>\n",
       "      <td>[pickup, delivery]</td>\n",
       "      <td>$</td>\n",
       "      <td>{'address1': '445 E Cheyenne Mountain Blvd', '...</td>\n",
       "      <td>+17195769211</td>\n",
       "      <td>(719) 576-9211</td>\n",
       "      <td>11057.073763</td>\n",
       "    </tr>\n",
       "    <tr>\n",
       "      <th>303</th>\n",
       "      <td>oRTZkXhREqXLSqeTJKsm6A</td>\n",
       "      <td>pizza-hut-fountain-6</td>\n",
       "      <td>Pizza Hut</td>\n",
       "      <td>https://s3-media3.fl.yelpcdn.com/bphoto/ZKJ6Ef...</td>\n",
       "      <td>False</td>\n",
       "      <td>https://www.yelp.com/biz/pizza-hut-fountain-6?...</td>\n",
       "      <td>34</td>\n",
       "      <td>[{'alias': 'pizza', 'title': 'Pizza'}, {'alias...</td>\n",
       "      <td>2.0</td>\n",
       "      <td>{'latitude': 38.7161475872586, 'longitude': -1...</td>\n",
       "      <td>[pickup, delivery]</td>\n",
       "      <td>$</td>\n",
       "      <td>{'address1': '6859 Mesa Ridge Pkwy', 'address2...</td>\n",
       "      <td>+17193911200</td>\n",
       "      <td>(719) 391-1200</td>\n",
       "      <td>18329.558139</td>\n",
       "    </tr>\n",
       "  </tbody>\n",
       "</table>\n",
       "</div>"
      ],
      "text/plain": [
       "                         id                                      alias  \\\n",
       "299  BAL4xOaBOtsoDDTAS-FWNg                lanna-thai-colorado-springs   \n",
       "300  ubDnfqz9VgGV7b6YDrG10A                     china-cottage-fountain   \n",
       "301  -j-rDUUnlC5fu7M-1cs9AQ  marcos-pizza-briargate-colorado-springs-3   \n",
       "302  g8jw7cDnEzOjFfx74qngyw                 new-panda-colorado-springs   \n",
       "303  oRTZkXhREqXLSqeTJKsm6A                       pizza-hut-fountain-6   \n",
       "\n",
       "                          name  \\\n",
       "299                 Lanna Thai   \n",
       "300              China Cottage   \n",
       "301  Marco's Pizza - Briargate   \n",
       "302                  New Panda   \n",
       "303                  Pizza Hut   \n",
       "\n",
       "                                             image_url  is_closed  \\\n",
       "299  https://s3-media4.fl.yelpcdn.com/bphoto/8d4NgP...      False   \n",
       "300  https://s3-media2.fl.yelpcdn.com/bphoto/QwlEmq...      False   \n",
       "301  https://s3-media4.fl.yelpcdn.com/bphoto/T9PLLR...      False   \n",
       "302  https://s3-media1.fl.yelpcdn.com/bphoto/S5IKhi...      False   \n",
       "303  https://s3-media3.fl.yelpcdn.com/bphoto/ZKJ6Ef...      False   \n",
       "\n",
       "                                                   url  review_count  \\\n",
       "299  https://www.yelp.com/biz/lanna-thai-colorado-s...           172   \n",
       "300  https://www.yelp.com/biz/china-cottage-fountai...            48   \n",
       "301  https://www.yelp.com/biz/marcos-pizza-briargat...            75   \n",
       "302  https://www.yelp.com/biz/new-panda-colorado-sp...           101   \n",
       "303  https://www.yelp.com/biz/pizza-hut-fountain-6?...            34   \n",
       "\n",
       "                                            categories  rating  \\\n",
       "299  [{'alias': 'thai', 'title': 'Thai'}, {'alias':...     3.5   \n",
       "300         [{'alias': 'chinese', 'title': 'Chinese'}]     3.0   \n",
       "301             [{'alias': 'pizza', 'title': 'Pizza'}]     3.5   \n",
       "302         [{'alias': 'chinese', 'title': 'Chinese'}]     2.5   \n",
       "303  [{'alias': 'pizza', 'title': 'Pizza'}, {'alias...     2.0   \n",
       "\n",
       "                                           coordinates        transactions  \\\n",
       "299  {'latitude': 38.9594841003418, 'longitude': -1...  [delivery, pickup]   \n",
       "300    {'latitude': 38.7326, 'longitude': -104.727752}          [delivery]   \n",
       "301  {'latitude': 38.9675701, 'longitude': -104.78347}          [delivery]   \n",
       "302  {'latitude': 38.7883579, 'longitude': -104.820...  [pickup, delivery]   \n",
       "303  {'latitude': 38.7161475872586, 'longitude': -1...  [pickup, delivery]   \n",
       "\n",
       "    price                                           location         phone  \\\n",
       "299    $$  {'address1': '8810 N Union Blvd', 'address2': ...  +17192820474   \n",
       "300    $$  {'address1': '7040 S US Highway 85-87', 'addre...  +17193900377   \n",
       "301     $  {'address1': '9420 Briar Village Point', 'addr...  +17194343773   \n",
       "302     $  {'address1': '445 E Cheyenne Mountain Blvd', '...  +17195769211   \n",
       "303     $  {'address1': '6859 Mesa Ridge Pkwy', 'address2...  +17193911200   \n",
       "\n",
       "      display_phone      distance  \n",
       "299  (719) 282-0474   9447.346016  \n",
       "300  (719) 390-0377  16020.888223  \n",
       "301  (719) 434-3773  10557.675775  \n",
       "302  (719) 576-9211  11057.073763  \n",
       "303  (719) 391-1200  18329.558139  "
      ]
     },
     "metadata": {},
     "output_type": "display_data"
    }
   ],
   "source": [
    "final_df = pd.read_json(JSON_FILE)\n",
    "display(final_df.head(), final_df.tail())"
   ]
  },
  {
   "cell_type": "code",
   "execution_count": 40,
   "id": "5db1d9c1",
   "metadata": {},
   "outputs": [
    {
     "data": {
      "text/plain": [
       "0"
      ]
     },
     "execution_count": 40,
     "metadata": {},
     "output_type": "execute_result"
    }
   ],
   "source": [
    "final_df.duplicated(subset='id').sum()"
   ]
  },
  {
   "cell_type": "code",
   "execution_count": null,
   "id": "4e53789a",
   "metadata": {},
   "outputs": [],
   "source": [
    "final_df.to_csv('Data/final_results_NY_pizza.csv.gz', compression = 'gzip',index = False)"
   ]
  }
 ],
 "metadata": {
  "kernelspec": {
   "display_name": "Python (dojo-env)",
   "language": "python",
   "name": "dojo-env"
  },
  "language_info": {
   "codemirror_mode": {
    "name": "ipython",
    "version": 3
   },
   "file_extension": ".py",
   "mimetype": "text/x-python",
   "name": "python",
   "nbconvert_exporter": "python",
   "pygments_lexer": "ipython3",
   "version": "3.9.15"
  },
  "toc": {
   "base_numbering": 1,
   "nav_menu": {},
   "number_sections": true,
   "sideBar": true,
   "skip_h1_title": false,
   "title_cell": "Table of Contents",
   "title_sidebar": "Contents",
   "toc_cell": false,
   "toc_position": {},
   "toc_section_display": true,
   "toc_window_display": false
  }
 },
 "nbformat": 4,
 "nbformat_minor": 5
}
